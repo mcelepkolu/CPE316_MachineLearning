{
 "cells": [
  {
   "cell_type": "markdown",
   "id": "bdd3f694",
   "metadata": {},
   "source": [
    "# VARIABLES "
   ]
  },
  {
   "cell_type": "code",
   "execution_count": null,
   "id": "03a0b79f",
   "metadata": {},
   "outputs": [],
   "source": [
    "variable1=56\n",
    "variable2=99.99\n",
    "lesson=\"Machine Learning\""
   ]
  },
  {
   "cell_type": "code",
   "execution_count": null,
   "id": "26fad1cb",
   "metadata": {},
   "outputs": [],
   "source": [
    "type(variable2)"
   ]
  },
  {
   "cell_type": "code",
   "execution_count": null,
   "id": "5de704e5",
   "metadata": {},
   "outputs": [],
   "source": [
    "type(variable1)"
   ]
  },
  {
   "cell_type": "code",
   "execution_count": null,
   "id": "e7bf2dc8",
   "metadata": {},
   "outputs": [],
   "source": [
    "type(lesson)"
   ]
  },
  {
   "cell_type": "markdown",
   "id": "29ff5f08",
   "metadata": {},
   "source": [
    "# LISTS"
   ]
  },
  {
   "cell_type": "code",
   "execution_count": null,
   "id": "1714dabd",
   "metadata": {},
   "outputs": [],
   "source": [
    "city_plates_list = [1,21,42,78]\n",
    "cities_list= [\"Adana\",\"Diyarbakir\",\"Karabuk\"]"
   ]
  },
  {
   "cell_type": "code",
   "execution_count": null,
   "id": "f22cbf50",
   "metadata": {},
   "outputs": [],
   "source": [
    "type(cities_list)"
   ]
  },
  {
   "cell_type": "code",
   "execution_count": null,
   "id": "784afedf",
   "metadata": {},
   "outputs": [],
   "source": [
    "cities_list.append(\"Konya\")\n",
    "city_plates_list.append(42)"
   ]
  },
  {
   "cell_type": "code",
   "execution_count": null,
   "id": "2f607fc1",
   "metadata": {
    "scrolled": true
   },
   "outputs": [],
   "source": [
    "city1 = cities_list[1]\n",
    "print(city1)"
   ]
  },
  {
   "cell_type": "code",
   "execution_count": null,
   "id": "f1613a42",
   "metadata": {},
   "outputs": [],
   "source": [
    "view_2 = cities_list[0:2]\n",
    "print(view_2)"
   ]
  },
  {
   "cell_type": "code",
   "execution_count": null,
   "id": "309fa36e",
   "metadata": {},
   "outputs": [],
   "source": [
    "print(cities_list)\n",
    "print(city_plates_list)"
   ]
  },
  {
   "cell_type": "code",
   "execution_count": null,
   "id": "87c9537c",
   "metadata": {},
   "outputs": [],
   "source": [
    "city_plates_list.sort()\n",
    "print(city_plates_list)"
   ]
  },
  {
   "cell_type": "markdown",
   "id": "c997c8f2",
   "metadata": {},
   "source": [
    "# DICTIONARY"
   ]
  },
  {
   "cell_type": "code",
   "execution_count": null,
   "id": "25962933",
   "metadata": {},
   "outputs": [],
   "source": [
    "dic = {\"Diyarbakir\":21, \"Adana\":1, \"Karabuk\":78 }\n",
    "type(dic)"
   ]
  },
  {
   "cell_type": "code",
   "execution_count": null,
   "id": "07750986",
   "metadata": {},
   "outputs": [],
   "source": [
    "cities= dic.keys()\n",
    "print(cities)"
   ]
  },
  {
   "cell_type": "code",
   "execution_count": null,
   "id": "a3cad3e1",
   "metadata": {},
   "outputs": [],
   "source": [
    "if \"Konya\" in cities:\n",
    "    print(\"yes\")\n",
    "else:\n",
    "    print(\"no\")"
   ]
  },
  {
   "cell_type": "code",
   "execution_count": null,
   "id": "92c1e23a",
   "metadata": {},
   "outputs": [],
   "source": [
    "dic[\"Konya\"] = 42\n",
    "print(dic)"
   ]
  },
  {
   "cell_type": "code",
   "execution_count": null,
   "id": "e132a21e",
   "metadata": {},
   "outputs": [],
   "source": [
    "dic.update({\"Diyarbakir\":100})"
   ]
  },
  {
   "cell_type": "code",
   "execution_count": null,
   "id": "849ae295",
   "metadata": {},
   "outputs": [],
   "source": [
    "print(dic)"
   ]
  },
  {
   "cell_type": "markdown",
   "id": "6b57626a",
   "metadata": {},
   "source": [
    "# Defining Functions - If Else Statements - Lambda"
   ]
  },
  {
   "cell_type": "code",
   "execution_count": null,
   "id": "b1c37feb",
   "metadata": {},
   "outputs": [],
   "source": [
    "def triangle(a,b,c):\n",
    "    if a+b>=c and b+c>=a and c+a>=b:\n",
    "        print(\"The integers can create a Triangle\")\n",
    "    else:\n",
    "        print(\"The integers can't create a Triangle\")    "
   ]
  },
  {
   "cell_type": "code",
   "execution_count": null,
   "id": "6943d549",
   "metadata": {},
   "outputs": [],
   "source": [
    "triangle(3,4,5)"
   ]
  },
  {
   "cell_type": "code",
   "execution_count": null,
   "id": "08046501",
   "metadata": {},
   "outputs": [],
   "source": [
    "triangle(2,5,9)"
   ]
  },
  {
   "cell_type": "code",
   "execution_count": null,
   "id": "bb346fcb",
   "metadata": {},
   "outputs": [],
   "source": [
    "def max_num(x,y):\n",
    "    if x>y: \n",
    "        return x\n",
    "    elif y>x:\n",
    "        return y"
   ]
  },
  {
   "cell_type": "code",
   "execution_count": null,
   "id": "24b5b9d0",
   "metadata": {},
   "outputs": [],
   "source": [
    "max_num(3,4)"
   ]
  },
  {
   "cell_type": "code",
   "execution_count": 91,
   "id": "f5798d63",
   "metadata": {},
   "outputs": [
    {
     "name": "stdout",
     "output_type": "stream",
     "text": [
      "5\n"
     ]
    }
   ],
   "source": [
    "max_lambda = lambda x, y: x if x > y else y\n",
    "\n",
    "print(max_lambda(3,5))"
   ]
  },
  {
   "cell_type": "code",
   "execution_count": null,
   "id": "9a94932f",
   "metadata": {},
   "outputs": [],
   "source": []
  }
 ],
 "metadata": {
  "kernelspec": {
   "display_name": "Python 3 (ipykernel)",
   "language": "python",
   "name": "python3"
  },
  "language_info": {
   "codemirror_mode": {
    "name": "ipython",
    "version": 3
   },
   "file_extension": ".py",
   "mimetype": "text/x-python",
   "name": "python",
   "nbconvert_exporter": "python",
   "pygments_lexer": "ipython3",
   "version": "3.9.12"
  }
 },
 "nbformat": 4,
 "nbformat_minor": 5
}

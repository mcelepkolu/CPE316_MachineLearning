{
 "cells": [
  {
   "cell_type": "markdown",
   "id": "3ef3d666",
   "metadata": {},
   "source": [
    "# Python Numpy Exercises"
   ]
  },
  {
   "cell_type": "code",
   "execution_count": 2,
   "id": "15447877",
   "metadata": {},
   "outputs": [],
   "source": [
    "import numpy as np"
   ]
  },
  {
   "cell_type": "code",
   "execution_count": 3,
   "id": "a3f1bcc8",
   "metadata": {},
   "outputs": [
    {
     "name": "stdout",
     "output_type": "stream",
     "text": [
      "[3 5 7 9]\n"
     ]
    }
   ],
   "source": [
    "rez = np.array([3,5,7,9])\n",
    "print(rez)"
   ]
  },
  {
   "cell_type": "code",
   "execution_count": 4,
   "id": "510bdab8",
   "metadata": {},
   "outputs": [],
   "source": [
    "rez1 = np.array([10,2,12,32,43,5,8,11,3,5,7,9,23,54,87,9,20,14,56,10,11])"
   ]
  },
  {
   "cell_type": "code",
   "execution_count": 5,
   "id": "f3680332",
   "metadata": {},
   "outputs": [
    {
     "data": {
      "text/plain": [
       "(21,)"
      ]
     },
     "execution_count": 5,
     "metadata": {},
     "output_type": "execute_result"
    }
   ],
   "source": [
    "rez1.shape"
   ]
  },
  {
   "cell_type": "code",
   "execution_count": 6,
   "id": "fcce0f7a",
   "metadata": {},
   "outputs": [],
   "source": [
    "rez1_rs = rez1.reshape(3,7) #Reshape the array"
   ]
  },
  {
   "cell_type": "code",
   "execution_count": 7,
   "id": "3268bca5",
   "metadata": {},
   "outputs": [
    {
     "name": "stdout",
     "output_type": "stream",
     "text": [
      "[[10  2 12 32 43  5  8]\n",
      " [11  3  5  7  9 23 54]\n",
      " [87  9 20 14 56 10 11]]\n"
     ]
    }
   ],
   "source": [
    "print(rez1_rs)"
   ]
  },
  {
   "cell_type": "code",
   "execution_count": 8,
   "id": "c15dbc83",
   "metadata": {},
   "outputs": [
    {
     "name": "stdout",
     "output_type": "stream",
     "text": [
      "Shape of rez1_rs(row,column) :  (3, 7)\n"
     ]
    }
   ],
   "source": [
    "print(\"Shape of rez1_rs(row,column) : \", rez1_rs.shape)"
   ]
  },
  {
   "cell_type": "code",
   "execution_count": 9,
   "id": "d8781928",
   "metadata": {},
   "outputs": [
    {
     "name": "stdout",
     "output_type": "stream",
     "text": [
      "Dimension of rez1_rs:  2\n"
     ]
    }
   ],
   "source": [
    "print(\"Dimension of rez1_rs: \",rez1_rs.ndim)"
   ]
  },
  {
   "cell_type": "code",
   "execution_count": 10,
   "id": "beda9ba8",
   "metadata": {},
   "outputs": [],
   "source": [
    "zero_rez= np.zeros((5,5))\n"
   ]
  },
  {
   "cell_type": "code",
   "execution_count": 11,
   "id": "902a3251",
   "metadata": {},
   "outputs": [
    {
     "name": "stdout",
     "output_type": "stream",
     "text": [
      "[[0. 0. 0. 0. 0.]\n",
      " [0. 0. 0. 0. 0.]\n",
      " [0. 0. 0. 0. 0.]\n",
      " [0. 0. 0. 0. 0.]\n",
      " [0. 0. 0. 0. 0.]]\n"
     ]
    }
   ],
   "source": [
    "print(zero_rez)"
   ]
  },
  {
   "cell_type": "code",
   "execution_count": 12,
   "id": "4b5cb331",
   "metadata": {},
   "outputs": [],
   "source": [
    "zero_rez[2,2] = 1"
   ]
  },
  {
   "cell_type": "code",
   "execution_count": 13,
   "id": "46e6d494",
   "metadata": {},
   "outputs": [
    {
     "name": "stdout",
     "output_type": "stream",
     "text": [
      "[[0. 0. 0. 0. 0.]\n",
      " [0. 0. 0. 0. 0.]\n",
      " [0. 0. 1. 0. 0.]\n",
      " [0. 0. 0. 0. 0.]\n",
      " [0. 0. 0. 0. 0.]]\n"
     ]
    }
   ],
   "source": [
    "print(zero_rez)"
   ]
  },
  {
   "cell_type": "code",
   "execution_count": 14,
   "id": "3e7edfd5",
   "metadata": {},
   "outputs": [
    {
     "name": "stdout",
     "output_type": "stream",
     "text": [
      "[[0. 0. 0. 0. 0. 0. 0. 0. 0. 0. 0. 0. 1. 0. 0. 0. 0. 0. 0. 0. 0. 0. 0. 0.\n",
      "  0.]]\n"
     ]
    }
   ],
   "source": [
    "print(zero_rez.reshape(1,25))"
   ]
  },
  {
   "cell_type": "code",
   "execution_count": 15,
   "id": "f901521a",
   "metadata": {
    "scrolled": true
   },
   "outputs": [
    {
     "data": {
      "text/plain": [
       "array([[0., 0., 0., 0., 0., 0.],\n",
       "       [0., 0., 0., 0., 0., 0.],\n",
       "       [0., 0., 0., 0., 0., 0.],\n",
       "       [0., 0., 0., 0., 0., 0.],\n",
       "       [0., 0., 0., 0., 0., 0.],\n",
       "       [0., 0., 0., 0., 0., 0.]])"
      ]
     },
     "execution_count": 15,
     "metadata": {},
     "output_type": "execute_result"
    }
   ],
   "source": [
    "np.empty((6,6))"
   ]
  },
  {
   "cell_type": "code",
   "execution_count": 16,
   "id": "a1e159ec",
   "metadata": {},
   "outputs": [],
   "source": [
    "rez3= np.arange(3,39,3)"
   ]
  },
  {
   "cell_type": "code",
   "execution_count": 17,
   "id": "e4427f4d",
   "metadata": {},
   "outputs": [
    {
     "name": "stdout",
     "output_type": "stream",
     "text": [
      "[ 3  6  9 12 15 18 21 24 27 30 33 36]\n"
     ]
    }
   ],
   "source": [
    "print(rez3)"
   ]
  },
  {
   "cell_type": "code",
   "execution_count": 18,
   "id": "f91e6a0c",
   "metadata": {},
   "outputs": [
    {
     "data": {
      "text/plain": [
       "(12,)"
      ]
     },
     "execution_count": 18,
     "metadata": {},
     "output_type": "execute_result"
    }
   ],
   "source": [
    "rez3.shape"
   ]
  },
  {
   "cell_type": "code",
   "execution_count": 19,
   "id": "90d6fd58",
   "metadata": {},
   "outputs": [
    {
     "data": {
      "text/plain": [
       "array([[ 3,  6,  9],\n",
       "       [12, 15, 18],\n",
       "       [21, 24, 27],\n",
       "       [30, 33, 36]])"
      ]
     },
     "execution_count": 19,
     "metadata": {},
     "output_type": "execute_result"
    }
   ],
   "source": [
    "rez3.reshape((4,3))"
   ]
  },
  {
   "cell_type": "code",
   "execution_count": 22,
   "id": "974ea21e",
   "metadata": {},
   "outputs": [],
   "source": [
    "array1= np.array([1,3,5,7,9])\n",
    "array2= np.array([2,4,6,8,10])"
   ]
  },
  {
   "cell_type": "code",
   "execution_count": 26,
   "id": "5861b809",
   "metadata": {},
   "outputs": [
    {
     "name": "stdout",
     "output_type": "stream",
     "text": [
      "[ 3  7 11 15 19]\n",
      "[-1 -1 -1 -1 -1]\n",
      "[ 2 12 30 56 90]\n"
     ]
    }
   ],
   "source": [
    "print(array1+array2)\n",
    "print(array1-array2)\n",
    "print(array1*array2)"
   ]
  },
  {
   "cell_type": "markdown",
   "id": "7c67a956",
   "metadata": {},
   "source": [
    "."
   ]
  },
  {
   "cell_type": "markdown",
   "id": "eca9b1e2",
   "metadata": {},
   "source": [
    "### Array Printing Options/Operations ###"
   ]
  },
  {
   "cell_type": "markdown",
   "id": "f38287d2",
   "metadata": {},
   "source": [
    "."
   ]
  },
  {
   "cell_type": "code",
   "execution_count": 33,
   "id": "5ed422ee",
   "metadata": {},
   "outputs": [],
   "source": [
    "rez = np.array([[2,9,3,8],[4,7,5,6]])"
   ]
  },
  {
   "cell_type": "code",
   "execution_count": 34,
   "id": "6df76ceb",
   "metadata": {},
   "outputs": [
    {
     "name": "stdout",
     "output_type": "stream",
     "text": [
      "[[2 9 3 8]\n",
      " [4 7 5 6]]\n"
     ]
    }
   ],
   "source": [
    "print(rezi)"
   ]
  },
  {
   "cell_type": "code",
   "execution_count": 35,
   "id": "a519e222",
   "metadata": {},
   "outputs": [
    {
     "name": "stdout",
     "output_type": "stream",
     "text": [
      "6\n"
     ]
    }
   ],
   "source": [
    "print(rez[1,3]) "
   ]
  },
  {
   "cell_type": "code",
   "execution_count": 36,
   "id": "69e99ac1",
   "metadata": {},
   "outputs": [
    {
     "name": "stdout",
     "output_type": "stream",
     "text": [
      "[4 7 5 6]\n"
     ]
    }
   ],
   "source": [
    "print(rez[1,:]) #2.row's all elements."
   ]
  },
  {
   "cell_type": "code",
   "execution_count": 38,
   "id": "968edf1b",
   "metadata": {},
   "outputs": [
    {
     "name": "stdout",
     "output_type": "stream",
     "text": [
      "[9 7]\n"
     ]
    }
   ],
   "source": [
    "print(rez[:,1]) #All elements of 2.column"
   ]
  },
  {
   "cell_type": "code",
   "execution_count": 39,
   "id": "a5c42633",
   "metadata": {},
   "outputs": [
    {
     "name": "stdout",
     "output_type": "stream",
     "text": [
      "[4 7 5 6]\n"
     ]
    }
   ],
   "source": [
    "print(rez[-1,:]) #Last row's all columns"
   ]
  },
  {
   "cell_type": "code",
   "execution_count": 40,
   "id": "91a6ab82",
   "metadata": {},
   "outputs": [
    {
     "name": "stdout",
     "output_type": "stream",
     "text": [
      "[8 6]\n"
     ]
    }
   ],
   "source": [
    "print(rez[:,-1]) #Last column's all rows"
   ]
  },
  {
   "cell_type": "markdown",
   "id": "01c16d1a",
   "metadata": {},
   "source": [
    "# "
   ]
  },
  {
   "cell_type": "code",
   "execution_count": 41,
   "id": "e7ce2dca",
   "metadata": {},
   "outputs": [],
   "source": [
    "rez = np.array([1,2,3,4,5,6,7,8,9])"
   ]
  },
  {
   "cell_type": "code",
   "execution_count": 49,
   "id": "f2d5c590",
   "metadata": {},
   "outputs": [
    {
     "name": "stdout",
     "output_type": "stream",
     "text": [
      "[[1 2 3]\n",
      " [4 5 6]\n",
      " [7 8 9]]\n"
     ]
    }
   ],
   "source": [
    "rez_rs = rez.reshape(3,3)\n",
    "print(rez_rs)"
   ]
  },
  {
   "cell_type": "code",
   "execution_count": 47,
   "id": "dd4542bd",
   "metadata": {},
   "outputs": [
    {
     "data": {
      "text/plain": [
       "array([[1, 4, 7],\n",
       "       [2, 5, 8],\n",
       "       [3, 6, 9]])"
      ]
     },
     "execution_count": 47,
     "metadata": {},
     "output_type": "execute_result"
    }
   ],
   "source": [
    "rez_rs.T"
   ]
  },
  {
   "cell_type": "code",
   "execution_count": null,
   "id": "4b9aec57",
   "metadata": {},
   "outputs": [],
   "source": []
  }
 ],
 "metadata": {
  "kernelspec": {
   "display_name": "Python 3 (ipykernel)",
   "language": "python",
   "name": "python3"
  },
  "language_info": {
   "codemirror_mode": {
    "name": "ipython",
    "version": 3
   },
   "file_extension": ".py",
   "mimetype": "text/x-python",
   "name": "python",
   "nbconvert_exporter": "python",
   "pygments_lexer": "ipython3",
   "version": "3.9.12"
  }
 },
 "nbformat": 4,
 "nbformat_minor": 5
}

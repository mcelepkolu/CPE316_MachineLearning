{
 "cells": [
  {
   "cell_type": "markdown",
   "id": "52ad167c",
   "metadata": {},
   "source": [
    "# PANDAS Lab Exercises"
   ]
  },
  {
   "cell_type": "code",
   "execution_count": 7,
   "id": "f1af8000",
   "metadata": {},
   "outputs": [],
   "source": [
    "import pandas as pd\n",
    "\n",
    "# Read the CSV file into a DataFrame\n",
    "summary = pd.read_csv(\"C:/Users/Med Botan/Desktop/CMPE SPRNG 2023/MACHINE LEARNING/CPE316_MachineLearning/week2/W3_V5 ApplyNames.csv\")\n"
   ]
  },
  {
   "cell_type": "code",
   "execution_count": 8,
   "id": "08247c66",
   "metadata": {},
   "outputs": [
    {
     "name": "stdout",
     "output_type": "stream",
     "text": [
      "  Emp ID Last Name First Name  Gender       Location  Floor  Annual Salary  \\\n",
      "0  E1001     CAROL        Joe    Male  01-North 2321      1         101400   \n",
      "1  E1003     CHUNG       Eric    Male   03-West 2796      2          70300   \n",
      "2  E1004  FLANDERS     Daniel    Male  02-North 2639      3          68800   \n",
      "3  E1110     BARRY       Adam    Male   02-West 2018      4          59200   \n",
      "4  E1134    FERRIS    Maleary  Female  03-North 2392      5          62900   \n",
      "5  E1150    FILOSA      Susan  Female   02-West 2279      6          58400   \n",
      "6  E1162   CARLTON    Barbara  Female   02-West 2699      7          59200   \n",
      "\n",
      "    Unnamed: 7  Unnamed: 8  \n",
      "0          NaN         NaN  \n",
      "1          NaN         NaN  \n",
      "2          NaN         NaN  \n",
      "3          NaN         NaN  \n",
      "4  $68,600.00          NaN  \n",
      "5          NaN         NaN  \n",
      "6          NaN         NaN  \n"
     ]
    }
   ],
   "source": [
    "print(summary)"
   ]
  },
  {
   "cell_type": "code",
   "execution_count": 9,
   "id": "171e417c",
   "metadata": {},
   "outputs": [],
   "source": [
    "employees= pd.DataFrame(summary)"
   ]
  },
  {
   "cell_type": "code",
   "execution_count": 10,
   "id": "c29c158e",
   "metadata": {},
   "outputs": [
    {
     "name": "stdout",
     "output_type": "stream",
     "text": [
      "  Emp ID Last Name First Name  Gender       Location  Floor  Annual Salary  \\\n",
      "0  E1001     CAROL        Joe    Male  01-North 2321      1         101400   \n",
      "1  E1003     CHUNG       Eric    Male   03-West 2796      2          70300   \n",
      "2  E1004  FLANDERS     Daniel    Male  02-North 2639      3          68800   \n",
      "3  E1110     BARRY       Adam    Male   02-West 2018      4          59200   \n",
      "4  E1134    FERRIS    Maleary  Female  03-North 2392      5          62900   \n",
      "5  E1150    FILOSA      Susan  Female   02-West 2279      6          58400   \n",
      "6  E1162   CARLTON    Barbara  Female   02-West 2699      7          59200   \n",
      "\n",
      "    Unnamed: 7  Unnamed: 8  \n",
      "0          NaN         NaN  \n",
      "1          NaN         NaN  \n",
      "2          NaN         NaN  \n",
      "3          NaN         NaN  \n",
      "4  $68,600.00          NaN  \n",
      "5          NaN         NaN  \n",
      "6          NaN         NaN  \n"
     ]
    }
   ],
   "source": [
    "print(employees)"
   ]
  },
  {
   "cell_type": "code",
   "execution_count": 11,
   "id": "c76fc73b",
   "metadata": {},
   "outputs": [
    {
     "name": "stdout",
     "output_type": "stream",
     "text": [
      "Index(['Emp ID', 'Last Name', 'First Name', 'Gender', 'Location', 'Floor',\n",
      "       'Annual Salary', 'Unnamed: 7', 'Unnamed: 8'],\n",
      "      dtype='object')\n"
     ]
    }
   ],
   "source": [
    "print(employees.columns)"
   ]
  },
  {
   "cell_type": "code",
   "execution_count": 12,
   "id": "35f5c9e8",
   "metadata": {},
   "outputs": [
    {
     "name": "stdout",
     "output_type": "stream",
     "text": [
      "<class 'pandas.core.frame.DataFrame'>\n",
      "RangeIndex: 7 entries, 0 to 6\n",
      "Data columns (total 9 columns):\n",
      " #   Column         Non-Null Count  Dtype  \n",
      "---  ------         --------------  -----  \n",
      " 0   Emp ID         7 non-null      object \n",
      " 1   Last Name      7 non-null      object \n",
      " 2   First Name     7 non-null      object \n",
      " 3   Gender         7 non-null      object \n",
      " 4   Location       7 non-null      object \n",
      " 5   Floor          7 non-null      int64  \n",
      " 6   Annual Salary  7 non-null      int64  \n",
      " 7   Unnamed: 7     1 non-null      object \n",
      " 8   Unnamed: 8     0 non-null      float64\n",
      "dtypes: float64(1), int64(2), object(6)\n",
      "memory usage: 632.0+ bytes\n",
      "None\n"
     ]
    }
   ],
   "source": [
    "print(employees.info())"
   ]
  },
  {
   "cell_type": "code",
   "execution_count": 13,
   "id": "43551932",
   "metadata": {},
   "outputs": [
    {
     "name": "stdout",
     "output_type": "stream",
     "text": [
      "Emp ID            object\n",
      "Last Name         object\n",
      "First Name        object\n",
      "Gender            object\n",
      "Location          object\n",
      "Floor              int64\n",
      "Annual Salary      int64\n",
      "Unnamed: 7        object\n",
      "Unnamed: 8       float64\n",
      "dtype: object\n"
     ]
    }
   ],
   "source": [
    "print(employees.dtypes)"
   ]
  },
  {
   "cell_type": "code",
   "execution_count": 14,
   "id": "de262569",
   "metadata": {},
   "outputs": [
    {
     "name": "stdout",
     "output_type": "stream",
     "text": [
      "          Floor  Annual Salary  Unnamed: 8\n",
      "count  7.000000       7.000000         0.0\n",
      "mean   4.000000   68600.000000         NaN\n",
      "std    2.160247   15231.655633         NaN\n",
      "min    1.000000   58400.000000         NaN\n",
      "25%    2.500000   59200.000000         NaN\n",
      "50%    4.000000   62900.000000         NaN\n",
      "75%    5.500000   69550.000000         NaN\n",
      "max    7.000000  101400.000000         NaN\n"
     ]
    }
   ],
   "source": [
    "print(employees.describe()) "
   ]
  },
  {
   "cell_type": "markdown",
   "id": "fafeb599",
   "metadata": {},
   "source": [
    "# Indexing And Slicing in PANDAS"
   ]
  },
  {
   "cell_type": "code",
   "execution_count": 15,
   "id": "58df2066",
   "metadata": {},
   "outputs": [
    {
     "name": "stdout",
     "output_type": "stream",
     "text": [
      "0        Joe\n",
      "1       Eric\n",
      "2     Daniel\n",
      "3       Adam\n",
      "4    Maleary\n",
      "5      Susan\n",
      "6    Barbara\n",
      "Name: First Name, dtype: object\n"
     ]
    }
   ],
   "source": [
    "print(employees[\"First Name\"])  "
   ]
  },
  {
   "cell_type": "code",
   "execution_count": 16,
   "id": "955ba6c0",
   "metadata": {},
   "outputs": [
    {
     "name": "stdout",
     "output_type": "stream",
     "text": [
      "0    01-North 2321\n",
      "1     03-West 2796\n",
      "2    02-North 2639\n",
      "3     02-West 2018\n",
      "4    03-North 2392\n",
      "5     02-West 2279\n",
      "6     02-West 2699\n",
      "Name: Location, dtype: object\n"
     ]
    }
   ],
   "source": [
    "print(employees.loc[:, \"Location\"])  #All Locations"
   ]
  },
  {
   "cell_type": "code",
   "execution_count": 17,
   "id": "311a4ce5",
   "metadata": {},
   "outputs": [
    {
     "name": "stdout",
     "output_type": "stream",
     "text": [
      "0    E1001\n",
      "1    E1003\n",
      "2    E1004\n",
      "Name: Emp ID, dtype: object\n"
     ]
    }
   ],
   "source": [
    "print(employees.loc[:2, \"Emp ID\"]) #Employer ID's from index 0 to 2"
   ]
  },
  {
   "cell_type": "code",
   "execution_count": 18,
   "id": "0a69f255",
   "metadata": {},
   "outputs": [
    {
     "name": "stdout",
     "output_type": "stream",
     "text": [
      "  Emp ID First Name  Annual Salary\n",
      "0  E1001        Joe         101400\n",
      "1  E1003       Eric          70300\n",
      "2  E1004     Daniel          68800\n",
      "3  E1110       Adam          59200\n",
      "4  E1134    Maleary          62900\n"
     ]
    }
   ],
   "source": [
    "print(employees.loc[:4, [\"Emp ID\", \"First Name\", \"Annual Salary\"]])"
   ]
  },
  {
   "cell_type": "code",
   "execution_count": 19,
   "id": "1f59ceb7",
   "metadata": {},
   "outputs": [
    {
     "name": "stdout",
     "output_type": "stream",
     "text": [
      "  Emp ID Last Name First Name  Gender       Location  Floor  Annual Salary  \\\n",
      "6  E1162   CARLTON    Barbara  Female   02-West 2699      7          59200   \n",
      "5  E1150    FILOSA      Susan  Female   02-West 2279      6          58400   \n",
      "4  E1134    FERRIS    Maleary  Female  03-North 2392      5          62900   \n",
      "3  E1110     BARRY       Adam    Male   02-West 2018      4          59200   \n",
      "2  E1004  FLANDERS     Daniel    Male  02-North 2639      3          68800   \n",
      "1  E1003     CHUNG       Eric    Male   03-West 2796      2          70300   \n",
      "0  E1001     CAROL        Joe    Male  01-North 2321      1         101400   \n",
      "\n",
      "    Unnamed: 7  Unnamed: 8  \n",
      "6          NaN         NaN  \n",
      "5          NaN         NaN  \n",
      "4  $68,600.00          NaN  \n",
      "3          NaN         NaN  \n",
      "2          NaN         NaN  \n",
      "1          NaN         NaN  \n",
      "0          NaN         NaN  \n"
     ]
    }
   ],
   "source": [
    "print(employees.loc[::-1])  #Reverse The ROWS queue"
   ]
  },
  {
   "cell_type": "markdown",
   "id": "6065d0cd",
   "metadata": {},
   "source": [
    "# Filtering in PANDAS"
   ]
  },
  {
   "cell_type": "code",
   "execution_count": 20,
   "id": "bdbebeee",
   "metadata": {},
   "outputs": [
    {
     "name": "stdout",
     "output_type": "stream",
     "text": [
      "   Floor   bool\n",
      "0      1  False\n",
      "1      2  False\n",
      "2      3  False\n",
      "3      4  False\n",
      "4      5   True\n",
      "5      6   True\n",
      "6      7   True\n"
     ]
    }
   ],
   "source": [
    "floor = employees.Floor>4     \n",
    "employees[\"bool\"]= floor\n",
    "print(employees.loc[:,[\"Floor\",\"bool\"]])"
   ]
  },
  {
   "cell_type": "code",
   "execution_count": 21,
   "id": "0ef606b9",
   "metadata": {},
   "outputs": [],
   "source": [
    "filtered_employees = employees[employees['Annual Salary'] > 60000]"
   ]
  },
  {
   "cell_type": "code",
   "execution_count": 22,
   "id": "cc6c46ab",
   "metadata": {},
   "outputs": [
    {
     "name": "stdout",
     "output_type": "stream",
     "text": [
      "0    E1001\n",
      "1    E1003\n",
      "2    E1004\n",
      "4    E1134\n",
      "Name: Emp ID, dtype: object\n"
     ]
    }
   ],
   "source": [
    "print(filtered_employees.loc[:, \"Emp ID\"])"
   ]
  },
  {
   "cell_type": "code",
   "execution_count": 23,
   "id": "ab83d14a",
   "metadata": {},
   "outputs": [
    {
     "name": "stdout",
     "output_type": "stream",
     "text": [
      "68600.0\n"
     ]
    }
   ],
   "source": [
    "import numpy as np\n",
    "average_salary = employees['Annual Salary'].mean() #pandas ile ortalama bulma \n",
    "print(average_salary)"
   ]
  },
  {
   "cell_type": "code",
   "execution_count": 24,
   "id": "ff8cb30f",
   "metadata": {},
   "outputs": [
    {
     "name": "stdout",
     "output_type": "stream",
     "text": [
      "  Emp ID  Annual Salary  Current Salary is\n",
      "0  E1001         101400  More than Average\n",
      "1  E1003          70300  More than Average\n",
      "2  E1004          68800  More than Average\n",
      "3  E1110          59200  Less than Average\n",
      "4  E1134          62900  Less than Average\n",
      "5  E1150          58400  Less than Average\n",
      "6  E1162          59200  Less than Average\n"
     ]
    }
   ],
   "source": [
    "employees[\"Current Salary is\"] = [\"Less than Average\" if employees['Annual Salary'].mean() > each else \"More than Average\" for each in employees['Annual Salary']]\n",
    "print(employees.loc[:, [\"Emp ID\", \"Annual Salary\", \"Current Salary is\"]])\n"
   ]
  },
  {
   "cell_type": "markdown",
   "id": "51f05fe9",
   "metadata": {},
   "source": [
    "# Concatenating in PANDAS"
   ]
  },
  {
   "cell_type": "code",
   "execution_count": 25,
   "id": "7ea06527",
   "metadata": {},
   "outputs": [
    {
     "data": {
      "text/html": [
       "<div>\n",
       "<style scoped>\n",
       "    .dataframe tbody tr th:only-of-type {\n",
       "        vertical-align: middle;\n",
       "    }\n",
       "\n",
       "    .dataframe tbody tr th {\n",
       "        vertical-align: top;\n",
       "    }\n",
       "\n",
       "    .dataframe thead th {\n",
       "        text-align: right;\n",
       "    }\n",
       "</style>\n",
       "<table border=\"1\" class=\"dataframe\">\n",
       "  <thead>\n",
       "    <tr style=\"text-align: right;\">\n",
       "      <th></th>\n",
       "      <th>Emp ID</th>\n",
       "      <th>Last Name</th>\n",
       "      <th>First Name</th>\n",
       "      <th>Gender</th>\n",
       "      <th>Location</th>\n",
       "      <th>Floor</th>\n",
       "      <th>Annual Salary</th>\n",
       "      <th>Unnamed: 7</th>\n",
       "      <th>Unnamed: 8</th>\n",
       "      <th>bool</th>\n",
       "      <th>Current Salary is</th>\n",
       "    </tr>\n",
       "  </thead>\n",
       "  <tbody>\n",
       "    <tr>\n",
       "      <th>0</th>\n",
       "      <td>E1001</td>\n",
       "      <td>CAROL</td>\n",
       "      <td>Joe</td>\n",
       "      <td>Male</td>\n",
       "      <td>01-North 2321</td>\n",
       "      <td>1</td>\n",
       "      <td>101400</td>\n",
       "      <td>NaN</td>\n",
       "      <td>NaN</td>\n",
       "      <td>False</td>\n",
       "      <td>More than Average</td>\n",
       "    </tr>\n",
       "    <tr>\n",
       "      <th>1</th>\n",
       "      <td>E1003</td>\n",
       "      <td>CHUNG</td>\n",
       "      <td>Eric</td>\n",
       "      <td>Male</td>\n",
       "      <td>03-West 2796</td>\n",
       "      <td>2</td>\n",
       "      <td>70300</td>\n",
       "      <td>NaN</td>\n",
       "      <td>NaN</td>\n",
       "      <td>False</td>\n",
       "      <td>More than Average</td>\n",
       "    </tr>\n",
       "    <tr>\n",
       "      <th>2</th>\n",
       "      <td>E1004</td>\n",
       "      <td>FLANDERS</td>\n",
       "      <td>Daniel</td>\n",
       "      <td>Male</td>\n",
       "      <td>02-North 2639</td>\n",
       "      <td>3</td>\n",
       "      <td>68800</td>\n",
       "      <td>NaN</td>\n",
       "      <td>NaN</td>\n",
       "      <td>False</td>\n",
       "      <td>More than Average</td>\n",
       "    </tr>\n",
       "    <tr>\n",
       "      <th>3</th>\n",
       "      <td>E1110</td>\n",
       "      <td>BARRY</td>\n",
       "      <td>Adam</td>\n",
       "      <td>Male</td>\n",
       "      <td>02-West 2018</td>\n",
       "      <td>4</td>\n",
       "      <td>59200</td>\n",
       "      <td>NaN</td>\n",
       "      <td>NaN</td>\n",
       "      <td>False</td>\n",
       "      <td>Less than Average</td>\n",
       "    </tr>\n",
       "    <tr>\n",
       "      <th>4</th>\n",
       "      <td>E1134</td>\n",
       "      <td>FERRIS</td>\n",
       "      <td>Maleary</td>\n",
       "      <td>Female</td>\n",
       "      <td>03-North 2392</td>\n",
       "      <td>5</td>\n",
       "      <td>62900</td>\n",
       "      <td>$68,600.00</td>\n",
       "      <td>NaN</td>\n",
       "      <td>True</td>\n",
       "      <td>Less than Average</td>\n",
       "    </tr>\n",
       "    <tr>\n",
       "      <th>2</th>\n",
       "      <td>E1004</td>\n",
       "      <td>FLANDERS</td>\n",
       "      <td>Daniel</td>\n",
       "      <td>Male</td>\n",
       "      <td>02-North 2639</td>\n",
       "      <td>3</td>\n",
       "      <td>68800</td>\n",
       "      <td>NaN</td>\n",
       "      <td>NaN</td>\n",
       "      <td>False</td>\n",
       "      <td>More than Average</td>\n",
       "    </tr>\n",
       "    <tr>\n",
       "      <th>3</th>\n",
       "      <td>E1110</td>\n",
       "      <td>BARRY</td>\n",
       "      <td>Adam</td>\n",
       "      <td>Male</td>\n",
       "      <td>02-West 2018</td>\n",
       "      <td>4</td>\n",
       "      <td>59200</td>\n",
       "      <td>NaN</td>\n",
       "      <td>NaN</td>\n",
       "      <td>False</td>\n",
       "      <td>Less than Average</td>\n",
       "    </tr>\n",
       "    <tr>\n",
       "      <th>4</th>\n",
       "      <td>E1134</td>\n",
       "      <td>FERRIS</td>\n",
       "      <td>Maleary</td>\n",
       "      <td>Female</td>\n",
       "      <td>03-North 2392</td>\n",
       "      <td>5</td>\n",
       "      <td>62900</td>\n",
       "      <td>$68,600.00</td>\n",
       "      <td>NaN</td>\n",
       "      <td>True</td>\n",
       "      <td>Less than Average</td>\n",
       "    </tr>\n",
       "    <tr>\n",
       "      <th>5</th>\n",
       "      <td>E1150</td>\n",
       "      <td>FILOSA</td>\n",
       "      <td>Susan</td>\n",
       "      <td>Female</td>\n",
       "      <td>02-West 2279</td>\n",
       "      <td>6</td>\n",
       "      <td>58400</td>\n",
       "      <td>NaN</td>\n",
       "      <td>NaN</td>\n",
       "      <td>True</td>\n",
       "      <td>Less than Average</td>\n",
       "    </tr>\n",
       "    <tr>\n",
       "      <th>6</th>\n",
       "      <td>E1162</td>\n",
       "      <td>CARLTON</td>\n",
       "      <td>Barbara</td>\n",
       "      <td>Female</td>\n",
       "      <td>02-West 2699</td>\n",
       "      <td>7</td>\n",
       "      <td>59200</td>\n",
       "      <td>NaN</td>\n",
       "      <td>NaN</td>\n",
       "      <td>True</td>\n",
       "      <td>Less than Average</td>\n",
       "    </tr>\n",
       "  </tbody>\n",
       "</table>\n",
       "</div>"
      ],
      "text/plain": [
       "  Emp ID Last Name First Name  Gender       Location  Floor  Annual Salary  \\\n",
       "0  E1001     CAROL        Joe    Male  01-North 2321      1         101400   \n",
       "1  E1003     CHUNG       Eric    Male   03-West 2796      2          70300   \n",
       "2  E1004  FLANDERS     Daniel    Male  02-North 2639      3          68800   \n",
       "3  E1110     BARRY       Adam    Male   02-West 2018      4          59200   \n",
       "4  E1134    FERRIS    Maleary  Female  03-North 2392      5          62900   \n",
       "2  E1004  FLANDERS     Daniel    Male  02-North 2639      3          68800   \n",
       "3  E1110     BARRY       Adam    Male   02-West 2018      4          59200   \n",
       "4  E1134    FERRIS    Maleary  Female  03-North 2392      5          62900   \n",
       "5  E1150    FILOSA      Susan  Female   02-West 2279      6          58400   \n",
       "6  E1162   CARLTON    Barbara  Female   02-West 2699      7          59200   \n",
       "\n",
       "    Unnamed: 7  Unnamed: 8   bool  Current Salary is  \n",
       "0          NaN         NaN  False  More than Average  \n",
       "1          NaN         NaN  False  More than Average  \n",
       "2          NaN         NaN  False  More than Average  \n",
       "3          NaN         NaN  False  Less than Average  \n",
       "4  $68,600.00          NaN   True  Less than Average  \n",
       "2          NaN         NaN  False  More than Average  \n",
       "3          NaN         NaN  False  Less than Average  \n",
       "4  $68,600.00          NaN   True  Less than Average  \n",
       "5          NaN         NaN   True  Less than Average  \n",
       "6          NaN         NaN   True  Less than Average  "
      ]
     },
     "execution_count": 25,
     "metadata": {},
     "output_type": "execute_result"
    }
   ],
   "source": [
    "data1 = employees.head()     \n",
    "data2 = employees.tail()\n",
    "data_concat = pd.concat([data1,data2],axis=0)\n",
    "data_concat"
   ]
  },
  {
   "cell_type": "code",
   "execution_count": null,
   "id": "4d70ddb1",
   "metadata": {},
   "outputs": [],
   "source": []
  },
  {
   "cell_type": "code",
   "execution_count": null,
   "id": "0acb5918",
   "metadata": {},
   "outputs": [],
   "source": []
  },
  {
   "cell_type": "code",
   "execution_count": null,
   "id": "30b90759",
   "metadata": {},
   "outputs": [],
   "source": []
  },
  {
   "cell_type": "code",
   "execution_count": null,
   "id": "8ccf752a",
   "metadata": {},
   "outputs": [],
   "source": []
  },
  {
   "cell_type": "code",
   "execution_count": null,
   "id": "d6636ee2",
   "metadata": {},
   "outputs": [],
   "source": []
  },
  {
   "cell_type": "code",
   "execution_count": null,
   "id": "70d87d8e",
   "metadata": {},
   "outputs": [],
   "source": []
  }
 ],
 "metadata": {
  "kernelspec": {
   "display_name": "Python 3 (ipykernel)",
   "language": "python",
   "name": "python3"
  },
  "language_info": {
   "codemirror_mode": {
    "name": "ipython",
    "version": 3
   },
   "file_extension": ".py",
   "mimetype": "text/x-python",
   "name": "python",
   "nbconvert_exporter": "python",
   "pygments_lexer": "ipython3",
   "version": "3.9.12"
  }
 },
 "nbformat": 4,
 "nbformat_minor": 5
}

{
 "cells": [
  {
   "cell_type": "markdown",
   "id": "3ef3d666",
   "metadata": {},
   "source": [
    "# Python Numpy Exercises"
   ]
  },
  {
   "cell_type": "code",
   "execution_count": 9,
   "id": "15447877",
   "metadata": {},
   "outputs": [],
   "source": [
    "import numpy as np"
   ]
  },
  {
   "cell_type": "code",
   "execution_count": 10,
   "id": "a3f1bcc8",
   "metadata": {},
   "outputs": [
    {
     "name": "stdout",
     "output_type": "stream",
     "text": [
      "[3 5 7 9]\n"
     ]
    }
   ],
   "source": [
    "rez = np.array([3,5,7,9])\n",
    "print(rez)"
   ]
  },
  {
   "cell_type": "code",
   "execution_count": 11,
   "id": "510bdab8",
   "metadata": {},
   "outputs": [],
   "source": [
    "rez1 = np.array([10,2,12,32,43,5,8,11,3,5,7,9,23,54,87,9,20,14,56,10,11])"
   ]
  },
  {
   "cell_type": "code",
   "execution_count": 12,
   "id": "f3680332",
   "metadata": {},
   "outputs": [
    {
     "data": {
      "text/plain": [
       "(21,)"
      ]
     },
     "execution_count": 12,
     "metadata": {},
     "output_type": "execute_result"
    }
   ],
   "source": [
    "rez1.shape"
   ]
  },
  {
   "cell_type": "code",
   "execution_count": 13,
   "id": "fcce0f7a",
   "metadata": {},
   "outputs": [],
   "source": [
    "rez1_rs = rez1.reshape(3,7) #Reshape the array"
   ]
  },
  {
   "cell_type": "code",
   "execution_count": 14,
   "id": "3268bca5",
   "metadata": {},
   "outputs": [
    {
     "name": "stdout",
     "output_type": "stream",
     "text": [
      "[[10  2 12 32 43  5  8]\n",
      " [11  3  5  7  9 23 54]\n",
      " [87  9 20 14 56 10 11]]\n"
     ]
    }
   ],
   "source": [
    "print(rez1_rs)"
   ]
  },
  {
   "cell_type": "code",
   "execution_count": 15,
   "id": "c15dbc83",
   "metadata": {},
   "outputs": [
    {
     "name": "stdout",
     "output_type": "stream",
     "text": [
      "Shape of rez1_rs(row,column) :  (3, 7)\n"
     ]
    }
   ],
   "source": [
    "print(\"Shape of rez1_rs(row,column) : \", rez1_rs.shape)"
   ]
  },
  {
   "cell_type": "code",
   "execution_count": 16,
   "id": "d8781928",
   "metadata": {},
   "outputs": [
    {
     "name": "stdout",
     "output_type": "stream",
     "text": [
      "Dimension of rez1_rs:  2\n"
     ]
    }
   ],
   "source": [
    "print(\"Dimension of rez1_rs: \",rez1_rs.ndim)"
   ]
  },
  {
   "cell_type": "code",
   "execution_count": 17,
   "id": "beda9ba8",
   "metadata": {},
   "outputs": [],
   "source": [
    "zero_rez= np.zeros((5,5))\n"
   ]
  },
  {
   "cell_type": "code",
   "execution_count": 18,
   "id": "902a3251",
   "metadata": {},
   "outputs": [
    {
     "name": "stdout",
     "output_type": "stream",
     "text": [
      "[[0. 0. 0. 0. 0.]\n",
      " [0. 0. 0. 0. 0.]\n",
      " [0. 0. 0. 0. 0.]\n",
      " [0. 0. 0. 0. 0.]\n",
      " [0. 0. 0. 0. 0.]]\n"
     ]
    }
   ],
   "source": [
    "print(zero_rez)"
   ]
  },
  {
   "cell_type": "code",
   "execution_count": 19,
   "id": "4b5cb331",
   "metadata": {},
   "outputs": [],
   "source": [
    "zero_rez[2,2] = 1"
   ]
  },
  {
   "cell_type": "code",
   "execution_count": 20,
   "id": "46e6d494",
   "metadata": {},
   "outputs": [
    {
     "name": "stdout",
     "output_type": "stream",
     "text": [
      "[[0. 0. 0. 0. 0.]\n",
      " [0. 0. 0. 0. 0.]\n",
      " [0. 0. 1. 0. 0.]\n",
      " [0. 0. 0. 0. 0.]\n",
      " [0. 0. 0. 0. 0.]]\n"
     ]
    }
   ],
   "source": [
    "print(zero_rez)"
   ]
  },
  {
   "cell_type": "code",
   "execution_count": 21,
   "id": "3e7edfd5",
   "metadata": {},
   "outputs": [
    {
     "name": "stdout",
     "output_type": "stream",
     "text": [
      "[[0. 0. 0. 0. 0. 0. 0. 0. 0. 0. 0. 0. 1. 0. 0. 0. 0. 0. 0. 0. 0. 0. 0. 0.\n",
      "  0.]]\n"
     ]
    }
   ],
   "source": [
    "print(zero_rez.reshape(1,25))"
   ]
  },
  {
   "cell_type": "code",
   "execution_count": 22,
   "id": "f901521a",
   "metadata": {
    "scrolled": true
   },
   "outputs": [
    {
     "data": {
      "text/plain": [
       "array([[1.25504833e-311, 1.19069821e-321, 0.00000000e+000,\n",
       "        0.00000000e+000, 1.29699722e-085, 1.16097020e-028],\n",
       "       [1.26087994e-076, 2.54867590e-028, 1.72291444e-047,\n",
       "        1.04917183e-153, 5.23081515e-143, 2.35825918e+184],\n",
       "       [8.00551651e+169, 9.50156306e+169, 4.39259757e+175,\n",
       "        5.19189705e-144, 3.59751658e+252, 1.46901661e+179],\n",
       "       [8.37404147e+242, 4.31999013e-096, 4.82337723e+228,\n",
       "        1.31343221e-047, 1.68503993e+160, 5.49703413e-090],\n",
       "       [1.11597048e-046, 8.07624965e+169, 5.04621343e+180,\n",
       "        1.94918963e-153, 5.45645596e-066, 2.34153152e-057],\n",
       "       [1.54772934e+185, 8.37947430e+165, 1.04914908e-153,\n",
       "        9.08366791e+223, 5.82381891e-144, 1.68054251e-094]])"
      ]
     },
     "execution_count": 22,
     "metadata": {},
     "output_type": "execute_result"
    }
   ],
   "source": [
    "np.empty((6,6))"
   ]
  },
  {
   "cell_type": "code",
   "execution_count": 23,
   "id": "a1e159ec",
   "metadata": {},
   "outputs": [],
   "source": [
    "rez3= np.arange(3,39,3)"
   ]
  },
  {
   "cell_type": "code",
   "execution_count": 24,
   "id": "e4427f4d",
   "metadata": {},
   "outputs": [
    {
     "name": "stdout",
     "output_type": "stream",
     "text": [
      "[ 3  6  9 12 15 18 21 24 27 30 33 36]\n"
     ]
    }
   ],
   "source": [
    "print(rez3)"
   ]
  },
  {
   "cell_type": "code",
   "execution_count": 25,
   "id": "f91e6a0c",
   "metadata": {},
   "outputs": [
    {
     "data": {
      "text/plain": [
       "(12,)"
      ]
     },
     "execution_count": 25,
     "metadata": {},
     "output_type": "execute_result"
    }
   ],
   "source": [
    "rez3.shape"
   ]
  },
  {
   "cell_type": "code",
   "execution_count": 26,
   "id": "90d6fd58",
   "metadata": {},
   "outputs": [
    {
     "data": {
      "text/plain": [
       "array([[ 3,  6,  9],\n",
       "       [12, 15, 18],\n",
       "       [21, 24, 27],\n",
       "       [30, 33, 36]])"
      ]
     },
     "execution_count": 26,
     "metadata": {},
     "output_type": "execute_result"
    }
   ],
   "source": [
    "rez3.reshape((4,3))"
   ]
  },
  {
   "cell_type": "code",
   "execution_count": 27,
   "id": "974ea21e",
   "metadata": {},
   "outputs": [],
   "source": [
    "array1= np.array([1,3,5,7,9])\n",
    "array2= np.array([2,4,6,8,10])"
   ]
  },
  {
   "cell_type": "code",
   "execution_count": 28,
   "id": "5861b809",
   "metadata": {},
   "outputs": [
    {
     "name": "stdout",
     "output_type": "stream",
     "text": [
      "[ 3  7 11 15 19]\n",
      "[-1 -1 -1 -1 -1]\n",
      "[ 2 12 30 56 90]\n"
     ]
    }
   ],
   "source": [
    "print(array1+array2)\n",
    "print(array1-array2)\n",
    "print(array1*array2)"
   ]
  },
  {
   "cell_type": "markdown",
   "id": "7c67a956",
   "metadata": {},
   "source": [
    "."
   ]
  },
  {
   "cell_type": "markdown",
   "id": "eca9b1e2",
   "metadata": {},
   "source": [
    "### Array Printing Options/Operations ###"
   ]
  },
  {
   "cell_type": "markdown",
   "id": "f38287d2",
   "metadata": {},
   "source": [
    "."
   ]
  },
  {
   "cell_type": "code",
   "execution_count": 29,
   "id": "5ed422ee",
   "metadata": {},
   "outputs": [],
   "source": [
    "rez = np.array([[2,9,3,8],[4,7,5,6]])"
   ]
  },
  {
   "cell_type": "code",
   "execution_count": 31,
   "id": "6df76ceb",
   "metadata": {},
   "outputs": [
    {
     "name": "stdout",
     "output_type": "stream",
     "text": [
      "[[2 9 3 8]\n",
      " [4 7 5 6]]\n"
     ]
    }
   ],
   "source": [
    "print(rez)"
   ]
  },
  {
   "cell_type": "code",
   "execution_count": null,
   "id": "a519e222",
   "metadata": {},
   "outputs": [],
   "source": [
    "print(rez[1,3]) "
   ]
  },
  {
   "cell_type": "code",
   "execution_count": null,
   "id": "69e99ac1",
   "metadata": {},
   "outputs": [],
   "source": [
    "print(rez[1,:]) #2.row's all elements."
   ]
  },
  {
   "cell_type": "code",
   "execution_count": null,
   "id": "968edf1b",
   "metadata": {},
   "outputs": [],
   "source": [
    "print(rez[:,1]) #All elements of 2.column"
   ]
  },
  {
   "cell_type": "code",
   "execution_count": null,
   "id": "a5c42633",
   "metadata": {},
   "outputs": [],
   "source": [
    "print(rez[-1,:]) #Last row's all columns"
   ]
  },
  {
   "cell_type": "code",
   "execution_count": null,
   "id": "91a6ab82",
   "metadata": {},
   "outputs": [],
   "source": [
    "print(rez[:,-1]) #Last column's all rows"
   ]
  },
  {
   "cell_type": "markdown",
   "id": "01c16d1a",
   "metadata": {},
   "source": [
    "# "
   ]
  },
  {
   "cell_type": "code",
   "execution_count": null,
   "id": "e7ce2dca",
   "metadata": {},
   "outputs": [],
   "source": [
    "rez = np.array([1,2,3,4,5,6,7,8,9])"
   ]
  },
  {
   "cell_type": "code",
   "execution_count": null,
   "id": "f2d5c590",
   "metadata": {},
   "outputs": [],
   "source": [
    "rez_rs = rez.reshape(3,3)\n",
    "print(rez_rs)"
   ]
  },
  {
   "cell_type": "code",
   "execution_count": null,
   "id": "dd4542bd",
   "metadata": {},
   "outputs": [],
   "source": [
    "rez_rs.T"
   ]
  },
  {
   "cell_type": "code",
   "execution_count": null,
   "id": "4b9aec57",
   "metadata": {},
   "outputs": [],
   "source": []
  }
 ],
 "metadata": {
  "kernelspec": {
   "display_name": "Python 3 (ipykernel)",
   "language": "python",
   "name": "python3"
  },
  "language_info": {
   "codemirror_mode": {
    "name": "ipython",
    "version": 3
   },
   "file_extension": ".py",
   "mimetype": "text/x-python",
   "name": "python",
   "nbconvert_exporter": "python",
   "pygments_lexer": "ipython3",
   "version": "3.10.0"
  }
 },
 "nbformat": 4,
 "nbformat_minor": 5
}
